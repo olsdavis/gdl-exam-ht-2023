{
  "cells": [
    {
      "cell_type": "markdown",
      "metadata": {
        "id": "GvMZsgsaxyJk"
      },
      "source": [
        "# Setup (imports & others)"
      ]
    },
    {
      "cell_type": "code",
      "execution_count": null,
      "metadata": {
        "colab": {
          "base_uri": "https://localhost:8080/"
        },
        "id": "UeBomGaxy1YZ",
        "outputId": "e6ae781c-4257-4a65-912a-60fb8aa98913"
      },
      "outputs": [
        {
          "name": "stdout",
          "output_type": "stream",
          "text": [
            "Looking in indexes: https://pypi.org/simple, https://us-python.pkg.dev/colab-wheels/public/simple/\n",
            "Looking in links: https://data.pyg.org/whl/torch-1.13.1+cu116.html\n",
            "Collecting torch-scatter\n",
            "  Downloading https://data.pyg.org/whl/torch-1.13.0%2Bcu116/torch_scatter-2.1.1%2Bpt113cu116-cp39-cp39-linux_x86_64.whl (9.4 MB)\n",
            "\u001b[2K     \u001b[90m━━━━━━━━━━━━━━━━━━━━━━━━━━━━━━━━━━━━━━━━\u001b[0m \u001b[32m9.4/9.4 MB\u001b[0m \u001b[31m25.0 MB/s\u001b[0m eta \u001b[36m0:00:00\u001b[0m\n",
            "\u001b[?25hCollecting torch-sparse\n",
            "  Downloading https://data.pyg.org/whl/torch-1.13.0%2Bcu116/torch_sparse-0.6.17%2Bpt113cu116-cp39-cp39-linux_x86_64.whl (4.5 MB)\n",
            "\u001b[2K     \u001b[90m━━━━━━━━━━━━━━━━━━━━━━━━━━━━━━━━━━━━━━━━\u001b[0m \u001b[32m4.5/4.5 MB\u001b[0m \u001b[31m56.9 MB/s\u001b[0m eta \u001b[36m0:00:00\u001b[0m\n",
            "\u001b[?25hCollecting torch-cluster\n",
            "  Downloading https://data.pyg.org/whl/torch-1.13.0%2Bcu116/torch_cluster-1.6.1%2Bpt113cu116-cp39-cp39-linux_x86_64.whl (3.2 MB)\n",
            "\u001b[2K     \u001b[90m━━━━━━━━━━━━━━━━━━━━━━━━━━━━━━━━━━━━━━━━\u001b[0m \u001b[32m3.2/3.2 MB\u001b[0m \u001b[31m52.6 MB/s\u001b[0m eta \u001b[36m0:00:00\u001b[0m\n",
            "\u001b[?25hCollecting torch-spline-conv\n",
            "  Downloading https://data.pyg.org/whl/torch-1.13.0%2Bcu116/torch_spline_conv-1.2.2%2Bpt113cu116-cp39-cp39-linux_x86_64.whl (868 kB)\n",
            "\u001b[2K     \u001b[90m━━━━━━━━━━━━━━━━━━━━━━━━━━━━━━━━━━━━━━\u001b[0m \u001b[32m868.4/868.4 KB\u001b[0m \u001b[31m49.7 MB/s\u001b[0m eta \u001b[36m0:00:00\u001b[0m\n",
            "\u001b[?25hCollecting torch-geometric\n",
            "  Downloading torch_geometric-2.3.0.tar.gz (616 kB)\n",
            "\u001b[2K     \u001b[90m━━━━━━━━━━━━━━━━━━━━━━━━━━━━━━━━━━━━━━\u001b[0m \u001b[32m616.2/616.2 KB\u001b[0m \u001b[31m10.3 MB/s\u001b[0m eta \u001b[36m0:00:00\u001b[0m\n",
            "\u001b[?25h  Installing build dependencies ... \u001b[?25l\u001b[?25hdone\n",
            "  Getting requirements to build wheel ... \u001b[?25l\u001b[?25hdone\n",
            "  Preparing metadata (pyproject.toml) ... \u001b[?25l\u001b[?25hdone\n",
            "Requirement already satisfied: scipy in /usr/local/lib/python3.9/dist-packages (from torch-sparse) (1.10.1)\n",
            "Requirement already satisfied: jinja2 in /usr/local/lib/python3.9/dist-packages (from torch-geometric) (3.1.2)\n",
            "Requirement already satisfied: scikit-learn in /usr/local/lib/python3.9/dist-packages (from torch-geometric) (1.2.2)\n",
            "Requirement already satisfied: tqdm in /usr/local/lib/python3.9/dist-packages (from torch-geometric) (4.65.0)\n",
            "Requirement already satisfied: numpy in /usr/local/lib/python3.9/dist-packages (from torch-geometric) (1.22.4)\n",
            "Requirement already satisfied: psutil>=5.8.0 in /usr/local/lib/python3.9/dist-packages (from torch-geometric) (5.9.4)\n",
            "Requirement already satisfied: requests in /usr/local/lib/python3.9/dist-packages (from torch-geometric) (2.27.1)\n",
            "Requirement already satisfied: pyparsing in /usr/local/lib/python3.9/dist-packages (from torch-geometric) (3.0.9)\n",
            "Requirement already satisfied: MarkupSafe>=2.0 in /usr/local/lib/python3.9/dist-packages (from jinja2->torch-geometric) (2.1.2)\n",
            "Requirement already satisfied: certifi>=2017.4.17 in /usr/local/lib/python3.9/dist-packages (from requests->torch-geometric) (2022.12.7)\n",
            "Requirement already satisfied: charset-normalizer~=2.0.0 in /usr/local/lib/python3.9/dist-packages (from requests->torch-geometric) (2.0.12)\n",
            "Requirement already satisfied: urllib3<1.27,>=1.21.1 in /usr/local/lib/python3.9/dist-packages (from requests->torch-geometric) (1.26.15)\n",
            "Requirement already satisfied: idna<4,>=2.5 in /usr/local/lib/python3.9/dist-packages (from requests->torch-geometric) (3.4)\n",
            "Requirement already satisfied: threadpoolctl>=2.0.0 in /usr/local/lib/python3.9/dist-packages (from scikit-learn->torch-geometric) (3.1.0)\n",
            "Requirement already satisfied: joblib>=1.1.1 in /usr/local/lib/python3.9/dist-packages (from scikit-learn->torch-geometric) (1.1.1)\n",
            "Building wheels for collected packages: torch-geometric\n",
            "  Building wheel for torch-geometric (pyproject.toml) ... \u001b[?25l\u001b[?25hdone\n",
            "  Created wheel for torch-geometric: filename=torch_geometric-2.3.0-py3-none-any.whl size=909897 sha256=f17f32c5db9b071e4c79ac6249d5964fef302cf26e194e697a039b544f02a945\n",
            "  Stored in directory: /root/.cache/pip/wheels/cd/7d/6b/17150450b80b4a3656a84330e22709ccd8dc0f8f4773ba4133\n",
            "Successfully built torch-geometric\n",
            "Installing collected packages: torch-spline-conv, torch-scatter, torch-sparse, torch-cluster, torch-geometric\n",
            "Successfully installed torch-cluster-1.6.1+pt113cu116 torch-geometric-2.3.0 torch-scatter-2.1.1+pt113cu116 torch-sparse-0.6.17+pt113cu116 torch-spline-conv-1.2.2+pt113cu116\n"
          ]
        }
      ],
      "source": [
        "!pip install torch-scatter torch-sparse torch-cluster torch-spline-conv torch-geometric -f https://data.pyg.org/whl/torch-1.13.1+cu116.html"
      ]
    },
    {
      "cell_type": "code",
      "execution_count": null,
      "metadata": {
        "colab": {
          "base_uri": "https://localhost:8080/"
        },
        "id": "boDTLmPIxufN",
        "outputId": "b124a2bc-373d-49ff-a0db-7be53336af13"
      },
      "outputs": [
        {
          "name": "stdout",
          "output_type": "stream",
          "text": [
            "Using the following device: cuda\n"
          ]
        }
      ],
      "source": [
        "import torch\n",
        "\n",
        "from torch import nn\n",
        "from torch import optim\n",
        "from torch.nn import functional as F\n",
        "\n",
        "import networkx as nx\n",
        "\n",
        "import torch_geometric as tg\n",
        "import torch_geometric.nn as gnn\n",
        "from torch_geometric.nn import MessagePassing\n",
        "from torch_geometric.data import Dataset\n",
        "from torch_geometric.loader import DataLoader\n",
        "from torch_geometric import transforms as T\n",
        "from torch_geometric.nn.models import LabelPropagation\n",
        "\n",
        "from torch_scatter import scatter\n",
        "\n",
        "import matplotlib.pyplot as plt\n",
        "%matplotlib inline\n",
        "\n",
        "from typing import Tuple, Iterable, List, Union\n",
        "\n",
        "device = torch.device('cuda' if torch.cuda.is_available() else 'cpu')\n",
        "print(f'Using the following device: {device}')"
      ]
    },
    {
      "cell_type": "code",
      "execution_count": null,
      "metadata": {
        "id": "YGQGNwT38shF"
      },
      "outputs": [],
      "source": [
        "class SelectY:\n",
        "    \"\"\"\n",
        "    This transforms enables us to pre-process datasets by\n",
        "    selecting which labels we want to keep.\n",
        "    \"\"\"\n",
        "\n",
        "    def __init__(self, targets: Union[List[int], int]):\n",
        "        \"\"\"\n",
        "        Parameters\n",
        "        ----------\n",
        "        - `targets`: a list of integers or an integer describing the target\n",
        "        labels to keep.\n",
        "        \"\"\"\n",
        "        assert targets if hasattr(targets, '__len__') else targets >= 0 \n",
        "        self.targets = targets\n",
        "\n",
        "    def __call__(self, data):\n",
        "        data.y = data.y[:, self.targets]\n",
        "        return data"
      ]
    },
    {
      "cell_type": "markdown",
      "metadata": {
        "id": "onme-EjxgqFb"
      },
      "source": [
        "Below is a utility function to save our results as a pickle file, so that we can make nicer plots in a separate file."
      ]
    },
    {
      "cell_type": "code",
      "execution_count": null,
      "metadata": {
        "id": "kOrRLuyHgzfo"
      },
      "outputs": [],
      "source": [
        "import pickle\n",
        "\n",
        "\n",
        "def export_pickled(data, path: str):\n",
        "    \"\"\"\n",
        "    Performs a pickle dump of `data` into file at `path`.\n",
        "    \"\"\"\n",
        "    assert path\n",
        "\n",
        "    with open(path, 'wb+') as f:\n",
        "        pickle.dump(data, f)"
      ]
    },
    {
      "cell_type": "code",
      "execution_count": null,
      "metadata": {
        "id": "bQnJ5W-zol88"
      },
      "outputs": [],
      "source": [
        "from os import mkdir\n",
        "\n",
        "mkdir('./out/')"
      ]
    },
    {
      "cell_type": "markdown",
      "metadata": {
        "id": "D92vM2t8BweI"
      },
      "source": [
        "# Our models/layers"
      ]
    },
    {
      "cell_type": "markdown",
      "metadata": {
        "id": "FrAJ4Og3BytK"
      },
      "source": [
        "## No-T"
      ]
    },
    {
      "cell_type": "markdown",
      "metadata": {
        "id": "iLrliSlRB7Z7"
      },
      "source": [
        "No-T centers all points by subtracting their centroids batch-wise, which makes the following layers $\\mathsf{T}(n)$-invariant."
      ]
    },
    {
      "cell_type": "code",
      "execution_count": null,
      "metadata": {
        "id": "zKkQrJv1BwPw"
      },
      "outputs": [],
      "source": [
        "class NoTLayer(nn.Module):\n",
        "    \"\"\"\n",
        "    This layer allows to centre all points batch-wise by their centroids,\n",
        "    enabling thus `T(n)` invariance.\n",
        "    \"\"\"\n",
        "\n",
        "    def forward(self, x, batch):\n",
        "        \"\"\"\n",
        "        Computes batch-wise centroids of `x` and centers\n",
        "        all points by the centroids.\n",
        "\n",
        "        Parameters\n",
        "        ----------\n",
        "        - `x`: must be of shape `B x V x D`, where `B` is the number of batches,\n",
        "        `V` is the number of nodes and `D` the number of dimensions;\n",
        "        \n",
        "        - `batch`: contains the indices of the batches.\n",
        "        \"\"\"\n",
        "        \n",
        "        centroids = scatter(x, index=batch, dim=0, reduce='mean')\n",
        "        # we now have batch-wise centroids\n",
        "        # apply them per batch\n",
        "        batches = torch.unique(batch)\n",
        "        for b in batches:\n",
        "            x[batch == b] -= centroids[b]\n",
        "        return x"
      ]
    },
    {
      "attachments": {},
      "cell_type": "markdown",
      "metadata": {
        "id": "OXWBxyAeHtN8"
      },
      "source": [
        "## Coul-NN layer\n",
        "We define here a single CoulNN layer, the formula of which is given by:\n",
        "$$\n",
        "\\renewcommand{\\vh}{\\mathbf{h}}\n",
        "\\renewcommand{\\vx}{\\mathbf{x}}\n",
        "\\renewcommand{\\mWneigh}{\\mathbf{W}_{\\mathrm{a}}}\n",
        "\\renewcommand{\\mWself}{\\mathbf{W}_{\\mathrm{s}}}\n",
        "\\renewcommand{\\neigh}{\\mathcal{N}}\n",
        "\\vh_{u, \\mathrm{a}}^{(t + 1)} = \\sum_{v \\in \\neigh(u)} \\varphi_1^{(t)} \\left(\\vh_u^{(t)} \\middle\\Vert \\vh_v^{(t)} \\middle\\Vert \\cos\\left(\\vx_u', \\vx_v'\\right) \\middle\\Vert \\lVert{\\vx_{v\\to u}'}\\rVert^{2} \\right), \\\\\n",
        "\\vh_u^{(t + 1)} = \\sigma\\left(\\varphi_2^{(t)}\\left(\\vh_u^{(t)}, \\vh_{u, \\mathrm{a}}^{(t + 1)}\\right)\\right).\n",
        "$$"
      ]
    },
    {
      "cell_type": "code",
      "execution_count": null,
      "metadata": {
        "id": "MBn1chHZHsIJ"
      },
      "outputs": [],
      "source": [
        "class CoulNNLayer(MessagePassing):\n",
        "    def __init__(self, in_dim=32, out_dim=32, aggr='add'):\n",
        "        \"\"\"\n",
        "        Parameters\n",
        "        ----------\n",
        "        - `in_dim`: the input dimension of the features;\n",
        "        - `out_dim`: the output dimension of the features;\n",
        "        - `aggr`: the aggregation style.\n",
        "        \"\"\"\n",
        "        super().__init__(aggr=aggr)\n",
        "        self.mlp_msg = nn.Linear(2 * in_dim + 2, in_dim)\n",
        "        self.upd_mlp = nn.Linear(2 * in_dim, out_dim)\n",
        "\n",
        "    def forward(self, h, pos, edge_index):\n",
        "        return self.propagate(edge_index, h=h, pos=pos)\n",
        "\n",
        "    def message(self, h_i, h_j, pos_i, pos_j):\n",
        "        dists = torch.sum(torch.square((pos_j - pos_i)), dim=1).unsqueeze(-1)\n",
        "        # cos similarity = cos\n",
        "        coses = F.cosine_similarity(pos_i, pos_j, dim=-1).unsqueeze(-1)\n",
        "        # out\n",
        "        return self.mlp_msg(torch.cat([h_i, h_j, coses, dists], dim=-1))\n",
        "    \n",
        "    def aggregate(self, inputs, index):\n",
        "        return scatter(inputs, index, dim=self.node_dim, reduce=self.aggr)\n",
        "    \n",
        "    def update(self, aggr_out, h):\n",
        "        return self.upd_mlp(torch.cat([h, aggr_out], dim=-1))"
      ]
    },
    {
      "cell_type": "markdown",
      "metadata": {
        "id": "uztaiiW8Bag3"
      },
      "source": [
        "## EGNN layer\n",
        "\n",
        "We re-implement the EGNN described in (Satorras et al., 2022). (In this case, making it invariant, since we do not update coordinates.) Observe that we also add ELU activations between all two layers.\n",
        "\n",
        "*Note: this code is based on the one done for Practical 3.*\n",
        "\n"
      ]
    },
    {
      "cell_type": "code",
      "execution_count": null,
      "metadata": {
        "id": "c3Rjdk9OBg7H"
      },
      "outputs": [],
      "source": [
        "class EGNNLayer(MessagePassing):\n",
        "    def __init__(self, in_dim=32, out_dim=32, aggr='add'):\n",
        "        \"\"\"\n",
        "        Parameters\n",
        "        ----------\n",
        "        - `in_dim`: the input dimension of the features;\n",
        "        - `out_dim`: the output dimension of the features;\n",
        "        - `aggr`: the aggregation style.\n",
        "        \"\"\"\n",
        "        super().__init__(aggr=aggr)\n",
        "        self.mlp_msg = nn.Linear(2 * in_dim, in_dim)\n",
        "        self.mlp_upd = nn.Linear(2 * in_dim, out_dim)\n",
        "\n",
        "    def forward(self, h, pos, edge_index):\n",
        "        return self.propagate(edge_index, h=h, pos=pos)\n",
        "\n",
        "    def message(self, h_i, h_j, pos_i, pos_j):\n",
        "        dists = torch.sum(torch.square((pos_j - pos_i)), dim=1).unsqueeze(-1)\n",
        "        h_i = dists * h_i\n",
        "        h_j = dists * h_j\n",
        "        return self.mlp_msg(torch.cat([h_i, h_j], dim=-1))\n",
        "    \n",
        "    def aggregate(self, inputs, index):\n",
        "        return scatter(inputs, index, dim=self.node_dim, reduce=self.aggr)\n",
        "    \n",
        "    def update(self, aggr_out, h):\n",
        "        upd_out = torch.cat([h, aggr_out], dim=-1)\n",
        "        return self.mlp_upd(upd_out)\n",
        "\n",
        "\n",
        "class EGNNModel(nn.Module):\n",
        "    def __init__(self, num_layers=3, emb_dim=32, in_dim=11, out_dim=1):\n",
        "        \"\"\"\n",
        "        Parameters\n",
        "        ----------\n",
        "        - `num_layers`: the number of layers;\n",
        "        - `emb_dim`: the hidden dimension;\n",
        "        - `in_dim`: the initial number of features;\n",
        "        - `out_dim`: the output dimension.\n",
        "        \"\"\"\n",
        "\n",
        "        super().__init__()\n",
        "\n",
        "        self.gnn = gnn.Sequential('x, pos, edge_index', [\n",
        "            l for i in range(num_layers) for l in [\n",
        "                (EGNNLayer(in_dim if i == 0 else emb_dim, emb_dim), 'x, pos, edge_index -> x'),\n",
        "                nn.ELU(),\n",
        "            ]\n",
        "        ])\n",
        "        self.pool = gnn.global_add_pool\n",
        "        self.lin_pred = nn.Linear(emb_dim, out_dim)\n",
        "\n",
        "    def forward(self, x, pos, edge_index, batch):\n",
        "        h = self.gnn(x, pos, edge_index)\n",
        "        h_graph = self.pool(h, batch)\n",
        "        out = self.lin_pred(h_graph)\n",
        "        return out"
      ]
    },
    {
      "cell_type": "markdown",
      "metadata": {
        "id": "NwSotNVWqfwM"
      },
      "source": [
        "## Label Propagation\n",
        "\n",
        "We use Torch Geometric's `LabelPropagation` class for standard label propagation. Below, we define $\\mathsf{CoulLP}$, the equation of which is given by\n",
        "$$\n",
        "\\vh_u^{(t + 1)} = \\sum_{v \\in \\neigh(u)} \\frac{\\cos(\\vh_u^{(t)}, \\vh_v^{(t)})} {\\sqrt{\\deg(u) \\deg(v)}} \\vh_v^{(t)}.\n",
        "$$\n",
        "\n",
        "**Note**: the initialisation to equiprobable labels is crucial, as otherwise, using one-hot encoding, labels become orthogonal---in which case the aggregation becomes (quasi-)trivial."
      ]
    },
    {
      "cell_type": "code",
      "execution_count": null,
      "metadata": {
        "id": "3mrT4FOQqi67"
      },
      "outputs": [],
      "source": [
        "from torch_geometric.typing import Adj, OptTensor\n",
        "\n",
        "\n",
        "class CoulLP(LabelPropagation):\n",
        "    # Note: We copy-paste here the code from the super-class to change one\n",
        "    # specific line about the initialisation.\n",
        "    @torch.no_grad()\n",
        "    def forward(\n",
        "        self,\n",
        "        y: torch.Tensor,\n",
        "        edge_index: Adj,\n",
        "        mask: OptTensor = None,\n",
        "        edge_weight: OptTensor = None,\n",
        "    ) -> torch.Tensor:\n",
        "        if y.dtype == torch.long and y.size(0) == y.numel():\n",
        "            y = F.one_hot(y.view(-1))\n",
        "\n",
        "        out = y\n",
        "        if mask is not None:\n",
        "            out = torch.ones_like(y) / y.shape[-1]\n",
        "            out[mask] = y[mask].float()\n",
        "\n",
        "        \n",
        "        edge_index, edge_weight = gnn.conv.gcn_conv.gcn_norm(edge_index, num_nodes=y.size(0),\n",
        "                                               add_self_loops=False)\n",
        "\n",
        "        res = (1 - self.alpha) * out\n",
        "        for _ in range(self.num_layers):\n",
        "            out = self.propagate(edge_index, x=out, edge_weight=edge_weight,\n",
        "                                 size=None)\n",
        "            out.mul_(self.alpha).add_(res)\n",
        "\n",
        "        return out\n",
        "\n",
        "    def message(self, x_i, x_j, edge_weight) -> torch.Tensor:\n",
        "        return F.cosine_similarity(x_i, x_j, dim=-1).unsqueeze(-1) * (edge_weight.view(-1, 1) * x_j)"
      ]
    },
    {
      "cell_type": "markdown",
      "metadata": {
        "id": "m82FpCxPvU9R"
      },
      "source": [
        "# Experiments"
      ]
    },
    {
      "cell_type": "code",
      "execution_count": null,
      "metadata": {
        "id": "2VgT5cvVvWtY"
      },
      "outputs": [],
      "source": [
        "class RegressionResult:\n",
        "    \"\"\"\n",
        "    Data class to store results from regression for a given model.\n",
        "    \"\"\"\n",
        "\n",
        "    def __init__(self, name: str, mae: List[float]):\n",
        "        \"\"\"\n",
        "        Parameters\n",
        "        ----------\n",
        "        - `name`: name of the model;\n",
        "        - `mae`: list of the MAEs per epoch.\n",
        "        \"\"\"\n",
        "        self.name = name\n",
        "        self.mae = mae"
      ]
    },
    {
      "attachments": {},
      "cell_type": "markdown",
      "metadata": {
        "id": "AHUV18h75TWT"
      },
      "source": [
        "## QM9\n",
        "\n",
        "We evaluate our models on the targets $0$ ($\\mu$, dipole moment), $1$ ($\\alpha$, isotropic polarisability), and $5$ ($\\langle R^2 \\rangle$, electronic spatial extent).\n",
        "\n",
        "*Note: we re-use some of the code from Practical 3 for this part of the notebook.*\n",
        "\n",
        "*Note 2: the run included in the paper's PDF may not be the ones just below.*"
      ]
    },
    {
      "cell_type": "code",
      "execution_count": null,
      "metadata": {
        "colab": {
          "base_uri": "https://localhost:8080/"
        },
        "id": "1rCf4PDI5UvP",
        "outputId": "f7816c67-7d62-4c9b-8112-5bd6f18b3217"
      },
      "outputs": [
        {
          "name": "stdout",
          "output_type": "stream",
          "text": [
            "Loaded QM9 dataset.\n"
          ]
        }
      ],
      "source": [
        "from torch_geometric.datasets import QM9\n",
        "\n",
        "\n",
        "qm_dataset = QM9(root='./data/qm9')\n",
        "print('Loaded QM9 dataset.')\n",
        "\n",
        "\n",
        "# Key: task -> model name -> Regression Result\n",
        "qm_results = {}"
      ]
    },
    {
      "cell_type": "code",
      "execution_count": null,
      "metadata": {
        "id": "9HvYFuQL8bJS"
      },
      "outputs": [],
      "source": [
        "def train_regression_task(model: nn.Module, criterion, optimizer, epochs: int, train_data: DataLoader, test_data: DataLoader, p_ep=5):\n",
        "    \"\"\"\n",
        "    Trains the provided model `model` for a regression task.\n",
        "\n",
        "    Returns a list of MAEs per epoch.\n",
        "    \"\"\"\n",
        "\n",
        "    def test_mae():\n",
        "        \"\"\"\n",
        "        Computes and returns the MAE of the model over the test data.\n",
        "        \"\"\"\n",
        "        model.eval()\n",
        "        losses = []\n",
        "        for data in test_data:\n",
        "            data = data.to(device)\n",
        "            out = model(data.x, data.pos, data.edge_index, data.batch).squeeze()\n",
        "            mae = F.l1_loss(out, data.y)\n",
        "            losses += [mae.cpu().detach().numpy()]\n",
        "\n",
        "        return sum(losses) / len(losses)\n",
        "            \n",
        "\n",
        "    def train_epoch():\n",
        "        \"\"\"\n",
        "        Trains the model for exactly one epoch.\n",
        "        \"\"\"\n",
        "        model.train()\n",
        "        for data in train_data:\n",
        "            data = data.to(device)\n",
        "            optimizer.zero_grad()\n",
        "            out = model(data.x, data.pos, data.edge_index, data.batch).squeeze()\n",
        "            loss = criterion(out, data.y)\n",
        "            loss.backward()\n",
        "            optimizer.step()\n",
        "\n",
        "\n",
        "    print('Training and evaluating the following model: ')\n",
        "    print(model)\n",
        "    print('---------------------------------------------')\n",
        "\n",
        "    perfs = []\n",
        "\n",
        "    for epoch in range(epochs):\n",
        "        train_epoch()\n",
        "        perfs += [test_mae()]\n",
        "        if epoch % p_ep == 0:\n",
        "            print(f'---- Last epoch {epoch + 1}/{epochs}, MAE: {perfs[-1]:.5f}')\n",
        "\n",
        "    return perfs"
      ]
    },
    {
      "cell_type": "code",
      "execution_count": null,
      "metadata": {
        "id": "DThvTTTYytFB"
      },
      "outputs": [],
      "source": [
        "def qm_eval_model(name: str, model: nn.Module, task: int):\n",
        "    \"\"\"\n",
        "    Trains the provided model `model`, and stores its results\n",
        "    in `qm_results` under the name `name`.\n",
        "    \"\"\"\n",
        "    assert name\n",
        "    assert model\n",
        "    assert task >= 0\n",
        "\n",
        "    qm_dataset = QM9(root='./data/qm9', transform=T.Compose([ SelectY( task ) ]))\n",
        "    qm_dataset = qm_dataset.shuffle()\n",
        "    train_data = qm_dataset[:5000]\n",
        "    test_data = qm_dataset[5000:7500]\n",
        "    train_loader = DataLoader(train_data, batch_size=32, shuffle=True)\n",
        "    test_loader = DataLoader(train_data, batch_size=32, shuffle=False)\n",
        "\n",
        "    p = train_regression_task(\n",
        "        model, \n",
        "        nn.L1Loss(), \n",
        "        optim.Adam(model.parameters(), lr=0.001), \n",
        "        50,\n",
        "        train_loader, \n",
        "        test_loader\n",
        "    )\n",
        "\n",
        "    if task not in qm_results:\n",
        "        qm_results[task] = {}\n",
        "\n",
        "    qm_results[task][name] = RegressionResult(name, p)\n",
        "    print(f'Done for {name} on task {task}!')"
      ]
    },
    {
      "cell_type": "markdown",
      "metadata": {
        "id": "XkouXRTww9SI"
      },
      "source": [
        "First, we evaluate the normal GCN:"
      ]
    },
    {
      "cell_type": "code",
      "execution_count": null,
      "metadata": {
        "colab": {
          "base_uri": "https://localhost:8080/"
        },
        "id": "Uyeh85kcytFB",
        "outputId": "a59cc12b-3d7a-4524-931c-6dc4b8af54cf"
      },
      "outputs": [
        {
          "name": "stdout",
          "output_type": "stream",
          "text": [
            "Training and evaluating the following model: \n",
            "Sequential(\n",
            "  (0): GCNConv(11, 32)\n",
            "  (1): ELU(alpha=1.0)\n",
            "  (2): GCNConv(32, 32)\n",
            "  (3): ELU(alpha=1.0)\n",
            "  (4): GCNConv(32, 32)\n",
            "  (5): ELU(alpha=1.0)\n",
            "  (6): <function global_add_pool at 0x7fe03d00b1f0>\n",
            "  (7): Linear(in_features=32, out_features=1, bias=True)\n",
            ")\n",
            "---------------------------------------------\n",
            "---- Last epoch 1/50, MAE: 1.03300\n",
            "---- Last epoch 6/50, MAE: 1.03829\n",
            "---- Last epoch 11/50, MAE: 0.99573\n",
            "---- Last epoch 16/50, MAE: 0.99083\n",
            "---- Last epoch 21/50, MAE: 0.98073\n",
            "---- Last epoch 26/50, MAE: 1.01135\n",
            "---- Last epoch 31/50, MAE: 0.99644\n",
            "---- Last epoch 36/50, MAE: 0.99651\n",
            "---- Last epoch 41/50, MAE: 0.97524\n",
            "---- Last epoch 46/50, MAE: 0.95930\n",
            "Done for GCN on task 0!\n"
          ]
        }
      ],
      "source": [
        "def qm_normal_gcn(task):\n",
        "    \"\"\"Trains and evaluates the normal GCN\"\"\"\n",
        "    model = gnn.Sequential('x, pos, edge_index, batch', [\n",
        "        (gnn.GCNConv(qm_dataset.num_features, 32), 'x, edge_index -> x'),\n",
        "        nn.ELU(),\n",
        "\n",
        "        (gnn.GCNConv(32, 32), 'x, edge_index -> x'),\n",
        "        nn.ELU(),\n",
        "\n",
        "        (gnn.GCNConv(32, 32), 'x, edge_index -> x'),\n",
        "        nn.ELU(),\n",
        "\n",
        "        (gnn.global_add_pool, 'x, batch -> x'),\n",
        "        (nn.Linear(32, 1), 'x -> x'),\n",
        "    ]).to(device)\n",
        "    qm_eval_model('GCN', model, task)\n",
        "\n",
        "\n",
        "qm_normal_gcn(0)"
      ]
    },
    {
      "cell_type": "markdown",
      "metadata": {
        "id": "-kNcSU7BxA-P"
      },
      "source": [
        "Then, the EGNN:"
      ]
    },
    {
      "cell_type": "code",
      "execution_count": null,
      "metadata": {
        "colab": {
          "base_uri": "https://localhost:8080/"
        },
        "id": "EENdfPcTxAiH",
        "outputId": "4dc60cc0-b07f-48c7-8d8b-9a8032485493"
      },
      "outputs": [
        {
          "name": "stdout",
          "output_type": "stream",
          "text": [
            "Training and evaluating the following model: \n",
            "EGNNModel(\n",
            "  (gnn): Sequential(\n",
            "    (0): EGNNLayer()\n",
            "    (1): ELU(alpha=1.0)\n",
            "    (2): EGNNLayer()\n",
            "    (3): ELU(alpha=1.0)\n",
            "    (4): EGNNLayer()\n",
            "    (5): ELU(alpha=1.0)\n",
            "  )\n",
            "  (lin_pred): Linear(in_features=32, out_features=1, bias=True)\n",
            ")\n",
            "---------------------------------------------\n",
            "---- Last epoch 1/50, MAE: 1.04918\n",
            "---- Last epoch 6/50, MAE: 1.14308\n",
            "---- Last epoch 11/50, MAE: 0.85605\n",
            "---- Last epoch 16/50, MAE: 0.87100\n",
            "---- Last epoch 21/50, MAE: 0.85265\n",
            "---- Last epoch 26/50, MAE: 0.78166\n",
            "---- Last epoch 31/50, MAE: 0.80237\n",
            "---- Last epoch 36/50, MAE: 0.75334\n",
            "---- Last epoch 41/50, MAE: 0.78428\n",
            "---- Last epoch 46/50, MAE: 0.72164\n",
            "Done for EGNN on task 0!\n"
          ]
        }
      ],
      "source": [
        "def qm_egnn(task):\n",
        "    \"\"\"Trains and evaluates the EGNN\"\"\"\n",
        "    qm_eval_model('EGNN', EGNNModel().to(device), task)\n",
        "\n",
        "\n",
        "qm_egnn(0)"
      ]
    },
    {
      "cell_type": "markdown",
      "metadata": {
        "id": "hrphLLHPxXUb"
      },
      "source": [
        "And, finally, our own model, CoulNN:"
      ]
    },
    {
      "cell_type": "code",
      "execution_count": null,
      "metadata": {
        "colab": {
          "base_uri": "https://localhost:8080/"
        },
        "id": "MKOStw2dxZPQ",
        "outputId": "f907999e-23e9-4ee4-83bd-a03c8ad02ed2"
      },
      "outputs": [
        {
          "name": "stdout",
          "output_type": "stream",
          "text": [
            "Training and evaluating the following model: \n",
            "Sequential(\n",
            "  (0): NoTLayer()\n",
            "  (1): CoulNNLayer()\n",
            "  (2): ELU(alpha=1.0)\n",
            "  (3): CoulNNLayer()\n",
            "  (4): ELU(alpha=1.0)\n",
            "  (5): CoulNNLayer()\n",
            "  (6): ELU(alpha=1.0)\n",
            "  (7): <function global_add_pool at 0x7fe03d00b1f0>\n",
            "  (8): Linear(in_features=32, out_features=1, bias=True)\n",
            ")\n",
            "---------------------------------------------\n",
            "---- Last epoch 1/50, MAE: 1.03217\n",
            "---- Last epoch 6/50, MAE: 0.83476\n",
            "---- Last epoch 11/50, MAE: 0.90170\n",
            "---- Last epoch 16/50, MAE: 0.78049\n",
            "---- Last epoch 21/50, MAE: 0.74895\n",
            "---- Last epoch 26/50, MAE: 0.82747\n",
            "---- Last epoch 31/50, MAE: 0.72890\n",
            "---- Last epoch 36/50, MAE: 0.78675\n",
            "---- Last epoch 41/50, MAE: 0.72530\n",
            "---- Last epoch 46/50, MAE: 0.70116\n",
            "Done for CoulNN on task 0!\n"
          ]
        }
      ],
      "source": [
        "def qm_coul(task):\n",
        "    \"\"\"Trains and evaluates the CoulNN\"\"\"\n",
        "\n",
        "    model = gnn.Sequential('x, pos, edge_index, batch', [\n",
        "        (NoTLayer(), 'x, batch -> x'),\n",
        "\n",
        "        (CoulNNLayer(in_dim=qm_dataset.num_features, out_dim=32), 'x, pos, edge_index -> x'),\n",
        "        nn.ELU(),\n",
        "\n",
        "        (CoulNNLayer(32, 32), 'x, pos, edge_index -> x'),\n",
        "        nn.ELU(),\n",
        "\n",
        "        (CoulNNLayer(32, 32), 'x, pos, edge_index -> x'),\n",
        "        nn.ELU(),\n",
        "\n",
        "        (gnn.global_add_pool, 'x, batch -> x'),\n",
        "        (nn.Linear(32, 1), 'x -> x'),\n",
        "    ]).to(device)\n",
        "    qm_eval_model('CoulNN', model, task)\n",
        "\n",
        "\n",
        "qm_coul(0)"
      ]
    },
    {
      "cell_type": "code",
      "execution_count": null,
      "metadata": {
        "colab": {
          "base_uri": "https://localhost:8080/",
          "height": 302
        },
        "id": "pXntBN0XygFh",
        "outputId": "1f7338ac-8da6-4ff8-9976-81a263750a08"
      },
      "outputs": [
        {
          "data": {
            "image/png": "[encoded data removed]",
            "text/plain": [
              "<Figure size 432x288 with 1 Axes>"
            ]
          },
          "metadata": {
            "needs_background": "light"
          },
          "output_type": "display_data"
        },
        {
          "name": "stdout",
          "output_type": "stream",
          "text": [
            "Displayed plot.\n",
            "Saved to ./out/qm_0_results.pkl.\n"
          ]
        }
      ],
      "source": [
        "# Display results, and save results in file (pretty plots in separate file)\n",
        "for k, v in qm_results[0].items():\n",
        "    plt.plot(v.mae, label=v.name)\n",
        "plt.legend(loc=\"upper right\")\n",
        "plt.show()\n",
        "print('Displayed plot.')\n",
        "\n",
        "# Save\n",
        "qm_0_file = './out/qm_0_results.pkl'\n",
        "export_pickled(qm_results[0], qm_0_file)\n",
        "print(f'Saved to {qm_0_file}.')"
      ]
    },
    {
      "cell_type": "code",
      "execution_count": null,
      "metadata": {
        "colab": {
          "base_uri": "https://localhost:8080/"
        },
        "id": "booG7vPm11Ou",
        "outputId": "f0e4ccf2-ce88-4dca-e212-5a2a274ee84f"
      },
      "outputs": [
        {
          "name": "stdout",
          "output_type": "stream",
          "text": [
            "Training and evaluating the following model: \n",
            "Sequential(\n",
            "  (0): GCNConv(11, 32)\n",
            "  (1): ELU(alpha=1.0)\n",
            "  (2): GCNConv(32, 32)\n",
            "  (3): ELU(alpha=1.0)\n",
            "  (4): GCNConv(32, 32)\n",
            "  (5): ELU(alpha=1.0)\n",
            "  (6): <function global_add_pool at 0x7fe03d00b1f0>\n",
            "  (7): Linear(in_features=32, out_features=1, bias=True)\n",
            ")\n",
            "---------------------------------------------\n",
            "---- Last epoch 1/50, MAE: 4.19803\n",
            "---- Last epoch 6/50, MAE: 2.47430\n",
            "---- Last epoch 11/50, MAE: 2.57941\n",
            "---- Last epoch 16/50, MAE: 2.42618\n",
            "---- Last epoch 21/50, MAE: 2.18968\n",
            "---- Last epoch 26/50, MAE: 2.09179\n",
            "---- Last epoch 31/50, MAE: 2.42801\n",
            "---- Last epoch 36/50, MAE: 1.94420\n",
            "---- Last epoch 41/50, MAE: 2.40438\n",
            "---- Last epoch 46/50, MAE: 1.79116\n",
            "Done for GCN on task 1!\n",
            "Training and evaluating the following model: \n",
            "EGNNModel(\n",
            "  (gnn): Sequential(\n",
            "    (0): EGNNLayer()\n",
            "    (1): ELU(alpha=1.0)\n",
            "    (2): EGNNLayer()\n",
            "    (3): ELU(alpha=1.0)\n",
            "    (4): EGNNLayer()\n",
            "    (5): ELU(alpha=1.0)\n",
            "  )\n",
            "  (lin_pred): Linear(in_features=32, out_features=1, bias=True)\n",
            ")\n",
            "---------------------------------------------\n",
            "---- Last epoch 1/50, MAE: 4.91508\n",
            "---- Last epoch 6/50, MAE: 1.22559\n",
            "---- Last epoch 11/50, MAE: 1.16948\n",
            "---- Last epoch 16/50, MAE: 1.34184\n",
            "---- Last epoch 21/50, MAE: 1.11364\n",
            "---- Last epoch 26/50, MAE: 1.00264\n",
            "---- Last epoch 31/50, MAE: 1.14500\n",
            "---- Last epoch 36/50, MAE: 1.35191\n",
            "---- Last epoch 41/50, MAE: 1.29368\n",
            "---- Last epoch 46/50, MAE: 1.06374\n",
            "Done for EGNN on task 1!\n",
            "Training and evaluating the following model: \n",
            "Sequential(\n",
            "  (0): NoTLayer()\n",
            "  (1): CoulNNLayer()\n",
            "  (2): ELU(alpha=1.0)\n",
            "  (3): CoulNNLayer()\n",
            "  (4): ELU(alpha=1.0)\n",
            "  (5): CoulNNLayer()\n",
            "  (6): ELU(alpha=1.0)\n",
            "  (7): <function global_add_pool at 0x7fe03d00b1f0>\n",
            "  (8): Linear(in_features=32, out_features=1, bias=True)\n",
            ")\n",
            "---------------------------------------------\n",
            "---- Last epoch 1/50, MAE: 3.62773\n",
            "---- Last epoch 6/50, MAE: 1.60856\n",
            "---- Last epoch 11/50, MAE: 1.47177\n",
            "---- Last epoch 16/50, MAE: 1.73787\n",
            "---- Last epoch 21/50, MAE: 1.59762\n",
            "---- Last epoch 26/50, MAE: 1.32241\n",
            "---- Last epoch 31/50, MAE: 1.68660\n",
            "---- Last epoch 36/50, MAE: 1.54815\n",
            "---- Last epoch 41/50, MAE: 1.18966\n",
            "---- Last epoch 46/50, MAE: 1.27050\n",
            "Done for CoulNN on task 1!\n"
          ]
        }
      ],
      "source": [
        "qm_normal_gcn(1)\n",
        "qm_egnn(1)\n",
        "qm_coul(1)"
      ]
    },
    {
      "cell_type": "code",
      "execution_count": null,
      "metadata": {
        "colab": {
          "base_uri": "https://localhost:8080/",
          "height": 302
        },
        "id": "fJZ8pRpKaea-",
        "outputId": "94313d77-a31b-4569-edfc-a845538faf8d"
      },
      "outputs": [
        {
          "data": {
            "image/png": "[encoded data removed]",
            "text/plain": [
              "<Figure size 432x288 with 1 Axes>"
            ]
          },
          "metadata": {
            "needs_background": "light"
          },
          "output_type": "display_data"
        },
        {
          "name": "stdout",
          "output_type": "stream",
          "text": [
            "Displayed plot.\n",
            "Saved to ./out/qm_1_results.pkl.\n"
          ]
        }
      ],
      "source": [
        "for k, v in qm_results[1].items():\n",
        "    plt.plot(v.mae, label=v.name)\n",
        "plt.legend(loc=\"upper right\")\n",
        "plt.show()\n",
        "print('Displayed plot.')\n",
        "\n",
        "# Save\n",
        "qm_1_file = './out/qm_1_results.pkl'\n",
        "export_pickled(qm_results[1], qm_1_file)\n",
        "print(f'Saved to {qm_1_file}.')"
      ]
    },
    {
      "cell_type": "code",
      "execution_count": null,
      "metadata": {
        "colab": {
          "base_uri": "https://localhost:8080/",
          "height": 1000
        },
        "id": "qGD4lc3s8D6p",
        "outputId": "23e5cdb0-a207-4f68-b3f6-8494a14d018c"
      },
      "outputs": [
        {
          "name": "stdout",
          "output_type": "stream",
          "text": [
            "Training and evaluating the following model: \n",
            "Sequential(\n",
            "  (0): GCNConv(11, 32)\n",
            "  (1): ELU(alpha=1.0)\n",
            "  (2): GCNConv(32, 32)\n",
            "  (3): ELU(alpha=1.0)\n",
            "  (4): GCNConv(32, 32)\n",
            "  (5): ELU(alpha=1.0)\n",
            "  (6): <function global_add_pool at 0x7fe03d00b1f0>\n",
            "  (7): Linear(in_features=32, out_features=1, bias=True)\n",
            ")\n",
            "---------------------------------------------\n",
            "---- Last epoch 1/50, MAE: 173.51181\n",
            "---- Last epoch 6/50, MAE: 167.50087\n",
            "---- Last epoch 11/50, MAE: 165.17343\n",
            "---- Last epoch 16/50, MAE: 164.63649\n",
            "---- Last epoch 21/50, MAE: 163.89369\n",
            "---- Last epoch 26/50, MAE: 164.85897\n",
            "---- Last epoch 31/50, MAE: 163.21161\n",
            "---- Last epoch 36/50, MAE: 164.60527\n",
            "---- Last epoch 41/50, MAE: 164.95050\n",
            "---- Last epoch 46/50, MAE: 163.48295\n",
            "Done for GCN on task 5!\n",
            "Training and evaluating the following model: \n",
            "EGNNModel(\n",
            "  (gnn): Sequential(\n",
            "    (0): EGNNLayer()\n",
            "    (1): ELU(alpha=1.0)\n",
            "    (2): EGNNLayer()\n",
            "    (3): ELU(alpha=1.0)\n",
            "    (4): EGNNLayer()\n",
            "    (5): ELU(alpha=1.0)\n",
            "  )\n",
            "  (lin_pred): Linear(in_features=32, out_features=1, bias=True)\n",
            ")\n",
            "---------------------------------------------\n",
            "---- Last epoch 1/50, MAE: 265.34762\n",
            "---- Last epoch 6/50, MAE: 104.64627\n",
            "---- Last epoch 11/50, MAE: 93.53634\n",
            "---- Last epoch 16/50, MAE: 101.67395\n",
            "---- Last epoch 21/50, MAE: 90.35553\n",
            "---- Last epoch 26/50, MAE: 84.95406\n",
            "---- Last epoch 31/50, MAE: 99.81445\n",
            "---- Last epoch 36/50, MAE: 84.96307\n",
            "---- Last epoch 41/50, MAE: 92.04855\n",
            "---- Last epoch 46/50, MAE: 97.95754\n",
            "Done for EGNN on task 5!\n",
            "Training and evaluating the following model: \n",
            "Sequential(\n",
            "  (0): NoTLayer()\n",
            "  (1): CoulNNLayer()\n",
            "  (2): ELU(alpha=1.0)\n",
            "  (3): CoulNNLayer()\n",
            "  (4): ELU(alpha=1.0)\n",
            "  (5): CoulNNLayer()\n",
            "  (6): ELU(alpha=1.0)\n",
            "  (7): <function global_add_pool at 0x7fe03d00b1f0>\n",
            "  (8): Linear(in_features=32, out_features=1, bias=True)\n",
            ")\n",
            "---------------------------------------------\n",
            "---- Last epoch 1/50, MAE: 219.07092\n",
            "---- Last epoch 6/50, MAE: 125.66701\n",
            "---- Last epoch 11/50, MAE: 113.16859\n",
            "---- Last epoch 16/50, MAE: 108.50444\n",
            "---- Last epoch 21/50, MAE: 105.07296\n",
            "---- Last epoch 26/50, MAE: 100.50216\n",
            "---- Last epoch 31/50, MAE: 95.33699\n",
            "---- Last epoch 36/50, MAE: 91.09227\n",
            "---- Last epoch 41/50, MAE: 107.59597\n",
            "---- Last epoch 46/50, MAE: 82.56483\n",
            "Done for CoulNN on task 5!\n"
          ]
        },
        {
          "data": {
            "image/png": "[encoded data removed]",
            "text/plain": [
              "<Figure size 432x288 with 1 Axes>"
            ]
          },
          "metadata": {
            "needs_background": "light"
          },
          "output_type": "display_data"
        },
        {
          "name": "stdout",
          "output_type": "stream",
          "text": [
            "Displayed plot.\n",
            "Saved to ./out/qm_5_results.pkl.\n"
          ]
        }
      ],
      "source": [
        "qm_normal_gcn(5)\n",
        "qm_egnn(5)\n",
        "qm_coul(5)\n",
        "\n",
        "# Display results, and save results in file (pretty plots in separate file)\n",
        "for k, v in qm_results[5].items():\n",
        "    plt.plot(v.mae, label=v.name)\n",
        "plt.legend(loc=\"upper right\")\n",
        "plt.show()\n",
        "print('Displayed plot.')\n",
        "\n",
        "# Save\n",
        "qm_5_file = './out/qm_5_results.pkl'\n",
        "export_pickled(qm_results[5], qm_5_file)\n",
        "print(f'Saved to {qm_5_file}.')"
      ]
    },
    {
      "cell_type": "markdown",
      "metadata": {
        "id": "tEP8MAczoBa9"
      },
      "source": [
        "## Cora for LP\n",
        "\n",
        "Cora is a standard *homophilic* dataset for which we want to evaluate the relative performance of $\\mathsf{CoulLP}$ compared to standard LP."
      ]
    },
    {
      "cell_type": "code",
      "execution_count": null,
      "metadata": {
        "colab": {
          "base_uri": "https://localhost:8080/"
        },
        "id": "swMrI3hVoZ_q",
        "outputId": "708b4525-d1fb-4ccd-bedd-29dbda39a96a"
      },
      "outputs": [
        {
          "name": "stderr",
          "output_type": "stream",
          "text": [
            "Downloading https://github.com/kimiyoung/planetoid/raw/master/data/ind.cora.x\n",
            "Downloading https://github.com/kimiyoung/planetoid/raw/master/data/ind.cora.tx\n",
            "Downloading https://github.com/kimiyoung/planetoid/raw/master/data/ind.cora.allx\n",
            "Downloading https://github.com/kimiyoung/planetoid/raw/master/data/ind.cora.y\n",
            "Downloading https://github.com/kimiyoung/planetoid/raw/master/data/ind.cora.ty\n",
            "Downloading https://github.com/kimiyoung/planetoid/raw/master/data/ind.cora.ally\n",
            "Downloading https://github.com/kimiyoung/planetoid/raw/master/data/ind.cora.graph\n",
            "Downloading https://github.com/kimiyoung/planetoid/raw/master/data/ind.cora.test.index\n",
            "Processing...\n"
          ]
        },
        {
          "name": "stdout",
          "output_type": "stream",
          "text": [
            "Loaded Cora, homophily = 0.8100.\n"
          ]
        },
        {
          "name": "stderr",
          "output_type": "stream",
          "text": [
            "Done!\n"
          ]
        }
      ],
      "source": [
        "# Load Cora first\n",
        "from torch_geometric.datasets import Planetoid\n",
        "\n",
        "\n",
        "cora = Planetoid(root='./data/Cora', name='Cora', split='full')[0]\n",
        "print(f'Loaded Cora, homophily = {tg.utils.homophily(cora.edge_index, cora.y):.4f}.')"
      ]
    },
    {
      "cell_type": "code",
      "execution_count": null,
      "metadata": {
        "id": "MfB1a2G5oMa-"
      },
      "outputs": [],
      "source": [
        "def run_label_prop(data, lp: nn.Module):\n",
        "    \"\"\"\n",
        "    Runs the provided label propagation `lp`, and returns its accuracy on\n",
        "    validation. \n",
        "    \"\"\"\n",
        "    pred = lp(data.y, data.edge_index, data.train_mask)\n",
        "    pred = torch.argmax(pred, dim=-1).squeeze()\n",
        "    correct = torch.count_nonzero((data.y == pred)[data.val_mask])\n",
        "    tot = torch.count_nonzero(data.val_mask)\n",
        "    return (correct.float() / tot.float()).item()"
      ]
    },
    {
      "cell_type": "code",
      "execution_count": null,
      "metadata": {
        "id": "laIehBYLhyqc"
      },
      "outputs": [],
      "source": [
        "def compare_lps_data(data, num_layers: int, alphas: Iterable[float] = [0.25, 0.5, 0.75, 1.0]):\n",
        "    \"\"\"\n",
        "    Compares CLP and standard LP over the provided graph `data`, varying the\n",
        "    number of layers up to `num_layers`, and the retention coefficient `alpha`\n",
        "    in `alphas`. Returns the results in a dictionary.\n",
        "    \"\"\"\n",
        "    assert num_layers > 0\n",
        "    assert alphas\n",
        "    assert not [alpha for alpha in alphas if alpha == 0.]\n",
        "\n",
        "    models = [\n",
        "        (CoulLP, 'CoulLP'),\n",
        "        (LabelPropagation, 'LP'),\n",
        "    ]\n",
        "    store = {}\n",
        "    for _, name in models:\n",
        "        store[name] = {}\n",
        "        for alpha in alphas:\n",
        "          store[name][alpha] = []\n",
        "\n",
        "    for alpha in alphas:\n",
        "        for l in range(1, num_layers + 1):\n",
        "            print(f'Evaluating for {l} layers, alpha={alpha}.')\n",
        "            for model, name in models:\n",
        "                acc = run_label_prop(data, model(l, alpha))\n",
        "                store[name][alpha] += [acc]\n",
        "\n",
        "    print('Done.')\n",
        "    \n",
        "    return store"
      ]
    },
    {
      "cell_type": "code",
      "execution_count": null,
      "metadata": {
        "colab": {
          "base_uri": "https://localhost:8080/"
        },
        "id": "ZitdV4ksj1fu",
        "outputId": "e31bc45a-bcde-4127-c22e-50809f2db513"
      },
      "outputs": [
        {
          "name": "stdout",
          "output_type": "stream",
          "text": [
            "Evaluating for 1 layers, alpha=0.25.\n",
            "Evaluating for 2 layers, alpha=0.25.\n",
            "Evaluating for 3 layers, alpha=0.25.\n",
            "Evaluating for 4 layers, alpha=0.25.\n",
            "Evaluating for 5 layers, alpha=0.25.\n",
            "Evaluating for 6 layers, alpha=0.25.\n",
            "Evaluating for 7 layers, alpha=0.25.\n",
            "Evaluating for 8 layers, alpha=0.25.\n",
            "Evaluating for 9 layers, alpha=0.25.\n",
            "Evaluating for 10 layers, alpha=0.25.\n",
            "Evaluating for 11 layers, alpha=0.25.\n",
            "Evaluating for 12 layers, alpha=0.25.\n",
            "Evaluating for 13 layers, alpha=0.25.\n",
            "Evaluating for 14 layers, alpha=0.25.\n",
            "Evaluating for 15 layers, alpha=0.25.\n",
            "Evaluating for 16 layers, alpha=0.25.\n",
            "Evaluating for 17 layers, alpha=0.25.\n",
            "Evaluating for 18 layers, alpha=0.25.\n",
            "Evaluating for 19 layers, alpha=0.25.\n",
            "Evaluating for 20 layers, alpha=0.25.\n",
            "Evaluating for 21 layers, alpha=0.25.\n",
            "Evaluating for 22 layers, alpha=0.25.\n",
            "Evaluating for 23 layers, alpha=0.25.\n",
            "Evaluating for 24 layers, alpha=0.25.\n",
            "Evaluating for 25 layers, alpha=0.25.\n",
            "Evaluating for 26 layers, alpha=0.25.\n",
            "Evaluating for 27 layers, alpha=0.25.\n",
            "Evaluating for 28 layers, alpha=0.25.\n",
            "Evaluating for 29 layers, alpha=0.25.\n",
            "Evaluating for 30 layers, alpha=0.25.\n",
            "Evaluating for 31 layers, alpha=0.25.\n",
            "Evaluating for 32 layers, alpha=0.25.\n",
            "Evaluating for 33 layers, alpha=0.25.\n",
            "Evaluating for 34 layers, alpha=0.25.\n",
            "Evaluating for 35 layers, alpha=0.25.\n",
            "Evaluating for 36 layers, alpha=0.25.\n",
            "Evaluating for 37 layers, alpha=0.25.\n",
            "Evaluating for 38 layers, alpha=0.25.\n",
            "Evaluating for 39 layers, alpha=0.25.\n",
            "Evaluating for 40 layers, alpha=0.25.\n",
            "Evaluating for 41 layers, alpha=0.25.\n",
            "Evaluating for 42 layers, alpha=0.25.\n",
            "Evaluating for 43 layers, alpha=0.25.\n",
            "Evaluating for 44 layers, alpha=0.25.\n",
            "Evaluating for 45 layers, alpha=0.25.\n",
            "Evaluating for 46 layers, alpha=0.25.\n",
            "Evaluating for 47 layers, alpha=0.25.\n",
            "Evaluating for 48 layers, alpha=0.25.\n",
            "Evaluating for 49 layers, alpha=0.25.\n",
            "Evaluating for 50 layers, alpha=0.25.\n",
            "Evaluating for 1 layers, alpha=0.5.\n",
            "Evaluating for 2 layers, alpha=0.5.\n",
            "Evaluating for 3 layers, alpha=0.5.\n",
            "Evaluating for 4 layers, alpha=0.5.\n",
            "Evaluating for 5 layers, alpha=0.5.\n",
            "Evaluating for 6 layers, alpha=0.5.\n",
            "Evaluating for 7 layers, alpha=0.5.\n",
            "Evaluating for 8 layers, alpha=0.5.\n",
            "Evaluating for 9 layers, alpha=0.5.\n",
            "Evaluating for 10 layers, alpha=0.5.\n",
            "Evaluating for 11 layers, alpha=0.5.\n",
            "Evaluating for 12 layers, alpha=0.5.\n",
            "Evaluating for 13 layers, alpha=0.5.\n",
            "Evaluating for 14 layers, alpha=0.5.\n",
            "Evaluating for 15 layers, alpha=0.5.\n",
            "Evaluating for 16 layers, alpha=0.5.\n",
            "Evaluating for 17 layers, alpha=0.5.\n",
            "Evaluating for 18 layers, alpha=0.5.\n",
            "Evaluating for 19 layers, alpha=0.5.\n",
            "Evaluating for 20 layers, alpha=0.5.\n",
            "Evaluating for 21 layers, alpha=0.5.\n",
            "Evaluating for 22 layers, alpha=0.5.\n",
            "Evaluating for 23 layers, alpha=0.5.\n",
            "Evaluating for 24 layers, alpha=0.5.\n",
            "Evaluating for 25 layers, alpha=0.5.\n",
            "Evaluating for 26 layers, alpha=0.5.\n",
            "Evaluating for 27 layers, alpha=0.5.\n",
            "Evaluating for 28 layers, alpha=0.5.\n",
            "Evaluating for 29 layers, alpha=0.5.\n",
            "Evaluating for 30 layers, alpha=0.5.\n",
            "Evaluating for 31 layers, alpha=0.5.\n",
            "Evaluating for 32 layers, alpha=0.5.\n",
            "Evaluating for 33 layers, alpha=0.5.\n",
            "Evaluating for 34 layers, alpha=0.5.\n",
            "Evaluating for 35 layers, alpha=0.5.\n",
            "Evaluating for 36 layers, alpha=0.5.\n",
            "Evaluating for 37 layers, alpha=0.5.\n",
            "Evaluating for 38 layers, alpha=0.5.\n",
            "Evaluating for 39 layers, alpha=0.5.\n",
            "Evaluating for 40 layers, alpha=0.5.\n",
            "Evaluating for 41 layers, alpha=0.5.\n",
            "Evaluating for 42 layers, alpha=0.5.\n",
            "Evaluating for 43 layers, alpha=0.5.\n",
            "Evaluating for 44 layers, alpha=0.5.\n",
            "Evaluating for 45 layers, alpha=0.5.\n",
            "Evaluating for 46 layers, alpha=0.5.\n",
            "Evaluating for 47 layers, alpha=0.5.\n",
            "Evaluating for 48 layers, alpha=0.5.\n",
            "Evaluating for 49 layers, alpha=0.5.\n",
            "Evaluating for 50 layers, alpha=0.5.\n",
            "Evaluating for 1 layers, alpha=0.75.\n",
            "Evaluating for 2 layers, alpha=0.75.\n",
            "Evaluating for 3 layers, alpha=0.75.\n",
            "Evaluating for 4 layers, alpha=0.75.\n",
            "Evaluating for 5 layers, alpha=0.75.\n",
            "Evaluating for 6 layers, alpha=0.75.\n",
            "Evaluating for 7 layers, alpha=0.75.\n",
            "Evaluating for 8 layers, alpha=0.75.\n",
            "Evaluating for 9 layers, alpha=0.75.\n",
            "Evaluating for 10 layers, alpha=0.75.\n",
            "Evaluating for 11 layers, alpha=0.75.\n",
            "Evaluating for 12 layers, alpha=0.75.\n",
            "Evaluating for 13 layers, alpha=0.75.\n",
            "Evaluating for 14 layers, alpha=0.75.\n",
            "Evaluating for 15 layers, alpha=0.75.\n",
            "Evaluating for 16 layers, alpha=0.75.\n",
            "Evaluating for 17 layers, alpha=0.75.\n",
            "Evaluating for 18 layers, alpha=0.75.\n",
            "Evaluating for 19 layers, alpha=0.75.\n",
            "Evaluating for 20 layers, alpha=0.75.\n",
            "Evaluating for 21 layers, alpha=0.75.\n",
            "Evaluating for 22 layers, alpha=0.75.\n",
            "Evaluating for 23 layers, alpha=0.75.\n",
            "Evaluating for 24 layers, alpha=0.75.\n",
            "Evaluating for 25 layers, alpha=0.75.\n",
            "Evaluating for 26 layers, alpha=0.75.\n",
            "Evaluating for 27 layers, alpha=0.75.\n",
            "Evaluating for 28 layers, alpha=0.75.\n",
            "Evaluating for 29 layers, alpha=0.75.\n",
            "Evaluating for 30 layers, alpha=0.75.\n",
            "Evaluating for 31 layers, alpha=0.75.\n",
            "Evaluating for 32 layers, alpha=0.75.\n",
            "Evaluating for 33 layers, alpha=0.75.\n",
            "Evaluating for 34 layers, alpha=0.75.\n",
            "Evaluating for 35 layers, alpha=0.75.\n",
            "Evaluating for 36 layers, alpha=0.75.\n",
            "Evaluating for 37 layers, alpha=0.75.\n",
            "Evaluating for 38 layers, alpha=0.75.\n",
            "Evaluating for 39 layers, alpha=0.75.\n",
            "Evaluating for 40 layers, alpha=0.75.\n",
            "Evaluating for 41 layers, alpha=0.75.\n",
            "Evaluating for 42 layers, alpha=0.75.\n",
            "Evaluating for 43 layers, alpha=0.75.\n",
            "Evaluating for 44 layers, alpha=0.75.\n",
            "Evaluating for 45 layers, alpha=0.75.\n",
            "Evaluating for 46 layers, alpha=0.75.\n",
            "Evaluating for 47 layers, alpha=0.75.\n",
            "Evaluating for 48 layers, alpha=0.75.\n",
            "Evaluating for 49 layers, alpha=0.75.\n",
            "Evaluating for 50 layers, alpha=0.75.\n",
            "Evaluating for 1 layers, alpha=1.0.\n",
            "Evaluating for 2 layers, alpha=1.0.\n",
            "Evaluating for 3 layers, alpha=1.0.\n",
            "Evaluating for 4 layers, alpha=1.0.\n",
            "Evaluating for 5 layers, alpha=1.0.\n",
            "Evaluating for 6 layers, alpha=1.0.\n",
            "Evaluating for 7 layers, alpha=1.0.\n",
            "Evaluating for 8 layers, alpha=1.0.\n",
            "Evaluating for 9 layers, alpha=1.0.\n",
            "Evaluating for 10 layers, alpha=1.0.\n",
            "Evaluating for 11 layers, alpha=1.0.\n",
            "Evaluating for 12 layers, alpha=1.0.\n",
            "Evaluating for 13 layers, alpha=1.0.\n",
            "Evaluating for 14 layers, alpha=1.0.\n",
            "Evaluating for 15 layers, alpha=1.0.\n",
            "Evaluating for 16 layers, alpha=1.0.\n",
            "Evaluating for 17 layers, alpha=1.0.\n",
            "Evaluating for 18 layers, alpha=1.0.\n",
            "Evaluating for 19 layers, alpha=1.0.\n",
            "Evaluating for 20 layers, alpha=1.0.\n",
            "Evaluating for 21 layers, alpha=1.0.\n",
            "Evaluating for 22 layers, alpha=1.0.\n",
            "Evaluating for 23 layers, alpha=1.0.\n",
            "Evaluating for 24 layers, alpha=1.0.\n",
            "Evaluating for 25 layers, alpha=1.0.\n",
            "Evaluating for 26 layers, alpha=1.0.\n",
            "Evaluating for 27 layers, alpha=1.0.\n",
            "Evaluating for 28 layers, alpha=1.0.\n",
            "Evaluating for 29 layers, alpha=1.0.\n",
            "Evaluating for 30 layers, alpha=1.0.\n",
            "Evaluating for 31 layers, alpha=1.0.\n",
            "Evaluating for 32 layers, alpha=1.0.\n",
            "Evaluating for 33 layers, alpha=1.0.\n",
            "Evaluating for 34 layers, alpha=1.0.\n",
            "Evaluating for 35 layers, alpha=1.0.\n",
            "Evaluating for 36 layers, alpha=1.0.\n",
            "Evaluating for 37 layers, alpha=1.0.\n",
            "Evaluating for 38 layers, alpha=1.0.\n",
            "Evaluating for 39 layers, alpha=1.0.\n",
            "Evaluating for 40 layers, alpha=1.0.\n",
            "Evaluating for 41 layers, alpha=1.0.\n",
            "Evaluating for 42 layers, alpha=1.0.\n",
            "Evaluating for 43 layers, alpha=1.0.\n",
            "Evaluating for 44 layers, alpha=1.0.\n",
            "Evaluating for 45 layers, alpha=1.0.\n",
            "Evaluating for 46 layers, alpha=1.0.\n",
            "Evaluating for 47 layers, alpha=1.0.\n",
            "Evaluating for 48 layers, alpha=1.0.\n",
            "Evaluating for 49 layers, alpha=1.0.\n",
            "Evaluating for 50 layers, alpha=1.0.\n",
            "Done.\n"
          ]
        }
      ],
      "source": [
        "cora_results = compare_lps_data(cora, 50)"
      ]
    },
    {
      "cell_type": "code",
      "execution_count": null,
      "metadata": {
        "colab": {
          "base_uri": "https://localhost:8080/",
          "height": 265
        },
        "id": "he-oj7oVnvg9",
        "outputId": "d007b3fc-deef-4301-ee54-559a6c911787"
      },
      "outputs": [
        {
          "data": {
            "image/png": "[encoded data removed]",
            "text/plain": [
              "<Figure size 432x288 with 1 Axes>"
            ]
          },
          "metadata": {
            "needs_background": "light"
          },
          "output_type": "display_data"
        }
      ],
      "source": [
        "for k, v in cora_results.items():\n",
        "    v = v[0.5]\n",
        "    plt.plot(v, label=k)\n",
        "plt.legend()\n",
        "plt.show()"
      ]
    },
    {
      "cell_type": "code",
      "execution_count": null,
      "metadata": {
        "colab": {
          "base_uri": "https://localhost:8080/"
        },
        "id": "tTmcrylOj7ko",
        "outputId": "ad570813-36ab-40e1-dd0d-018d9b7d870a"
      },
      "outputs": [
        {
          "name": "stdout",
          "output_type": "stream",
          "text": [
            "Saved results to ./out/cora_results.pkl.\n"
          ]
        }
      ],
      "source": [
        "cora_results_f = './out/cora_results.pkl'\n",
        "export_pickled(cora_results, cora_results_f)\n",
        "print(f'Saved results to {cora_results_f}.')"
      ]
    },
    {
      "attachments": {},
      "cell_type": "markdown",
      "metadata": {
        "id": "bebEEY0Kkp9i"
      },
      "source": [
        "## Heterophilic Datasets for LP\n",
        "\n",
        "We use the `Roman-empire` heterophilic datasets provided in Platanov et al., 2023, to evaluate CLP's performance compared to that of standard LP. For versioning reasons, we manually import `HeterophilousGraphDataset` from Torch Geometric, copy-pasting the code."
      ]
    },
    {
      "cell_type": "code",
      "execution_count": null,
      "metadata": {
        "id": "ztVEttlBpnrj"
      },
      "outputs": [],
      "source": [
        "import os.path as osp\n",
        "from typing import Callable, Optional\n",
        "\n",
        "import numpy as np\n",
        "\n",
        "from torch_geometric.data import Data, InMemoryDataset, download_url\n",
        "\n",
        "\n",
        "class HeterophilousGraphDataset(InMemoryDataset):\n",
        "    r\"\"\"The heterophilous graphs :obj:`\"Roman-empire\"`,\n",
        "    :obj:`\"Amazon-ratings\"`, :obj:`\"Minesweeper\"`, :obj:`\"Tolokers\"` and\n",
        "    :obj:`\"Questions\"` from the `\"A Critical Look at the Evaluation of GNNs\n",
        "    under Heterophily: Are We Really Making Progress?\"\n",
        "    <https://arxiv.org/abs/2302.11640>`_ paper.\n",
        "\n",
        "    Args:\n",
        "        root (str): Root directory where the dataset should be saved.\n",
        "        name (str): The name of the dataset (:obj:`\"Roman-empire\"`,\n",
        "            :obj:`\"Amazon-ratings\"`, :obj:`\"Minesweeper\"`, :obj:`\"Tolokers\"`,\n",
        "            :obj:`\"Questions\"`).\n",
        "        transform (callable, optional): A function/transform that takes in an\n",
        "            :obj:`torch_geometric.data.Data` object and returns a transformed\n",
        "            version. The data object will be transformed before every access.\n",
        "            (default: :obj:`None`)\n",
        "        pre_transform (callable, optional): A function/transform that takes in\n",
        "            an :obj:`torch_geometric.data.Data` object and returns a\n",
        "            transformed version. The data object will be transformed before\n",
        "            being saved to disk. (default: :obj:`None`)\n",
        "\n",
        "    **STATS:**\n",
        "\n",
        "    .. list-table::\n",
        "        :widths: 10 10 10 10 10\n",
        "        :header-rows: 1\n",
        "\n",
        "        * - Name\n",
        "          - #nodes\n",
        "          - #edges\n",
        "          - #features\n",
        "          - #classes\n",
        "        * - Roman-empire\n",
        "          - 22,662\n",
        "          - 32,927\n",
        "          - 300\n",
        "          - 18\n",
        "        * - Amazon-ratings\n",
        "          - 24,492\n",
        "          - 93,050\n",
        "          - 300\n",
        "          - 5\n",
        "        * - Minesweeper\n",
        "          - 10,000\n",
        "          - 39,402\n",
        "          - 7\n",
        "          - 2\n",
        "        * - Tolokers\n",
        "          - 11,758\n",
        "          - 519,000\n",
        "          - 10\n",
        "          - 2\n",
        "        * - Questions\n",
        "          - 48,921\n",
        "          - 153,540\n",
        "          - 301\n",
        "          - 2\n",
        "    \"\"\"\n",
        "    url = ('https://github.com/yandex-research/heterophilous-graphs/raw/'\n",
        "           'main/data')\n",
        "\n",
        "    def __init__(\n",
        "        self,\n",
        "        root: str,\n",
        "        name: str,\n",
        "        transform: Optional[Callable] = None,\n",
        "        pre_transform: Optional[Callable] = None,\n",
        "    ):\n",
        "        self.name = name.lower().replace('-', '_')\n",
        "        assert self.name in [\n",
        "            'roman_empire',\n",
        "            'amazon_ratings',\n",
        "            'minesweeper',\n",
        "            'tolokers',\n",
        "            'questions',\n",
        "        ]\n",
        "\n",
        "        super().__init__(root, transform, pre_transform)\n",
        "        self.data, self.slices = torch.load(self.processed_paths[0])\n",
        "\n",
        "    @property\n",
        "    def raw_dir(self) -> str:\n",
        "        return osp.join(self.root, self.name, 'raw')\n",
        "\n",
        "    @property\n",
        "    def processed_dir(self) -> str:\n",
        "        return osp.join(self.root, self.name, 'processed')\n",
        "\n",
        "    @property\n",
        "    def raw_file_names(self) -> str:\n",
        "        return f'{self.name}.npz'\n",
        "\n",
        "    @property\n",
        "    def processed_file_names(self) -> str:\n",
        "        return 'data.pt'\n",
        "\n",
        "    def download(self):\n",
        "        download_url(f'{self.url}/{self.name}.npz', self.raw_dir)\n",
        "\n",
        "    def process(self):\n",
        "        raw = np.load(self.raw_paths[0], 'r')\n",
        "        x = torch.from_numpy(raw['node_features'])\n",
        "        y = torch.from_numpy(raw['node_labels'])\n",
        "        edge_index = torch.from_numpy(raw['edges']).t().contiguous()\n",
        "        train_mask = torch.from_numpy(raw['train_masks']).t().contiguous()\n",
        "        val_mask = torch.from_numpy(raw['val_masks']).t().contiguous()\n",
        "        test_mask = torch.from_numpy(raw['test_masks']).t().contiguous()\n",
        "\n",
        "        data = Data(x=x, y=y, edge_index=edge_index, train_mask=train_mask,\n",
        "                    val_mask=val_mask, test_mask=test_mask)\n",
        "\n",
        "        if self.pre_transform is not None:\n",
        "            data = self.pre_transform(data)\n",
        "\n",
        "        torch.save(self.collate([data]), self.processed_paths[0])\n",
        "\n",
        "    def __repr__(self) -> str:\n",
        "        return f'{self.__class__.__name__}(name={self.name})'"
      ]
    },
    {
      "cell_type": "code",
      "execution_count": null,
      "metadata": {
        "colab": {
          "base_uri": "https://localhost:8080/"
        },
        "id": "hjtM28bXkrka",
        "outputId": "fb68aec8-9cf2-4c15-b813-204ba1c488c1"
      },
      "outputs": [
        {
          "name": "stderr",
          "output_type": "stream",
          "text": [
            "Downloading https://github.com/yandex-research/heterophilous-graphs/raw/main/data/roman_empire.npz\n",
            "Processing...\n"
          ]
        },
        {
          "name": "stdout",
          "output_type": "stream",
          "text": [
            "Loaded HeterophilousGraphDataset, homophily = 0.0469.\n"
          ]
        },
        {
          "name": "stderr",
          "output_type": "stream",
          "text": [
            "Done!\n"
          ]
        }
      ],
      "source": [
        "hetero = HeterophilousGraphDataset(root='./data/hetero', name='Roman-empire')\n",
        "print(f'Loaded HeterophilousGraphDataset, homophily = {tg.utils.homophily(hetero.edge_index, hetero.y):.4f}.')\n",
        "# Retain only first fold of the masks\n",
        "hetero.train_mask = hetero.train_mask[:, 0]\n",
        "hetero.val_mask = hetero.val_mask[:, 0]"
      ]
    },
    {
      "cell_type": "code",
      "execution_count": null,
      "metadata": {
        "colab": {
          "base_uri": "https://localhost:8080/"
        },
        "id": "znYLErKRmlSO",
        "outputId": "c9f8c5d1-4de0-48dd-ceb9-d2c0895ee0d8"
      },
      "outputs": [
        {
          "name": "stdout",
          "output_type": "stream",
          "text": [
            "Evaluating for 1 layers, alpha=0.25.\n",
            "Evaluating for 2 layers, alpha=0.25.\n",
            "Evaluating for 3 layers, alpha=0.25.\n",
            "Evaluating for 4 layers, alpha=0.25.\n",
            "Evaluating for 5 layers, alpha=0.25.\n",
            "Evaluating for 6 layers, alpha=0.25.\n",
            "Evaluating for 7 layers, alpha=0.25.\n",
            "Evaluating for 8 layers, alpha=0.25.\n",
            "Evaluating for 9 layers, alpha=0.25.\n",
            "Evaluating for 10 layers, alpha=0.25.\n",
            "Evaluating for 11 layers, alpha=0.25.\n",
            "Evaluating for 12 layers, alpha=0.25.\n",
            "Evaluating for 13 layers, alpha=0.25.\n",
            "Evaluating for 14 layers, alpha=0.25.\n",
            "Evaluating for 15 layers, alpha=0.25.\n",
            "Evaluating for 16 layers, alpha=0.25.\n",
            "Evaluating for 17 layers, alpha=0.25.\n",
            "Evaluating for 18 layers, alpha=0.25.\n",
            "Evaluating for 19 layers, alpha=0.25.\n",
            "Evaluating for 20 layers, alpha=0.25.\n",
            "Evaluating for 21 layers, alpha=0.25.\n",
            "Evaluating for 22 layers, alpha=0.25.\n",
            "Evaluating for 23 layers, alpha=0.25.\n",
            "Evaluating for 24 layers, alpha=0.25.\n",
            "Evaluating for 25 layers, alpha=0.25.\n",
            "Evaluating for 26 layers, alpha=0.25.\n",
            "Evaluating for 27 layers, alpha=0.25.\n",
            "Evaluating for 28 layers, alpha=0.25.\n",
            "Evaluating for 29 layers, alpha=0.25.\n",
            "Evaluating for 30 layers, alpha=0.25.\n",
            "Evaluating for 31 layers, alpha=0.25.\n",
            "Evaluating for 32 layers, alpha=0.25.\n",
            "Evaluating for 33 layers, alpha=0.25.\n",
            "Evaluating for 34 layers, alpha=0.25.\n",
            "Evaluating for 35 layers, alpha=0.25.\n",
            "Evaluating for 36 layers, alpha=0.25.\n",
            "Evaluating for 37 layers, alpha=0.25.\n",
            "Evaluating for 38 layers, alpha=0.25.\n",
            "Evaluating for 39 layers, alpha=0.25.\n",
            "Evaluating for 40 layers, alpha=0.25.\n",
            "Evaluating for 41 layers, alpha=0.25.\n",
            "Evaluating for 42 layers, alpha=0.25.\n",
            "Evaluating for 43 layers, alpha=0.25.\n",
            "Evaluating for 44 layers, alpha=0.25.\n",
            "Evaluating for 45 layers, alpha=0.25.\n",
            "Evaluating for 46 layers, alpha=0.25.\n",
            "Evaluating for 47 layers, alpha=0.25.\n",
            "Evaluating for 48 layers, alpha=0.25.\n",
            "Evaluating for 49 layers, alpha=0.25.\n",
            "Evaluating for 50 layers, alpha=0.25.\n",
            "Evaluating for 1 layers, alpha=0.5.\n",
            "Evaluating for 2 layers, alpha=0.5.\n",
            "Evaluating for 3 layers, alpha=0.5.\n",
            "Evaluating for 4 layers, alpha=0.5.\n",
            "Evaluating for 5 layers, alpha=0.5.\n",
            "Evaluating for 6 layers, alpha=0.5.\n",
            "Evaluating for 7 layers, alpha=0.5.\n",
            "Evaluating for 8 layers, alpha=0.5.\n",
            "Evaluating for 9 layers, alpha=0.5.\n",
            "Evaluating for 10 layers, alpha=0.5.\n",
            "Evaluating for 11 layers, alpha=0.5.\n",
            "Evaluating for 12 layers, alpha=0.5.\n",
            "Evaluating for 13 layers, alpha=0.5.\n",
            "Evaluating for 14 layers, alpha=0.5.\n",
            "Evaluating for 15 layers, alpha=0.5.\n",
            "Evaluating for 16 layers, alpha=0.5.\n",
            "Evaluating for 17 layers, alpha=0.5.\n",
            "Evaluating for 18 layers, alpha=0.5.\n",
            "Evaluating for 19 layers, alpha=0.5.\n",
            "Evaluating for 20 layers, alpha=0.5.\n",
            "Evaluating for 21 layers, alpha=0.5.\n",
            "Evaluating for 22 layers, alpha=0.5.\n",
            "Evaluating for 23 layers, alpha=0.5.\n",
            "Evaluating for 24 layers, alpha=0.5.\n",
            "Evaluating for 25 layers, alpha=0.5.\n",
            "Evaluating for 26 layers, alpha=0.5.\n",
            "Evaluating for 27 layers, alpha=0.5.\n",
            "Evaluating for 28 layers, alpha=0.5.\n",
            "Evaluating for 29 layers, alpha=0.5.\n",
            "Evaluating for 30 layers, alpha=0.5.\n",
            "Evaluating for 31 layers, alpha=0.5.\n",
            "Evaluating for 32 layers, alpha=0.5.\n",
            "Evaluating for 33 layers, alpha=0.5.\n",
            "Evaluating for 34 layers, alpha=0.5.\n",
            "Evaluating for 35 layers, alpha=0.5.\n",
            "Evaluating for 36 layers, alpha=0.5.\n",
            "Evaluating for 37 layers, alpha=0.5.\n",
            "Evaluating for 38 layers, alpha=0.5.\n",
            "Evaluating for 39 layers, alpha=0.5.\n",
            "Evaluating for 40 layers, alpha=0.5.\n",
            "Evaluating for 41 layers, alpha=0.5.\n",
            "Evaluating for 42 layers, alpha=0.5.\n",
            "Evaluating for 43 layers, alpha=0.5.\n",
            "Evaluating for 44 layers, alpha=0.5.\n",
            "Evaluating for 45 layers, alpha=0.5.\n",
            "Evaluating for 46 layers, alpha=0.5.\n",
            "Evaluating for 47 layers, alpha=0.5.\n",
            "Evaluating for 48 layers, alpha=0.5.\n",
            "Evaluating for 49 layers, alpha=0.5.\n",
            "Evaluating for 50 layers, alpha=0.5.\n",
            "Evaluating for 1 layers, alpha=0.75.\n",
            "Evaluating for 2 layers, alpha=0.75.\n",
            "Evaluating for 3 layers, alpha=0.75.\n",
            "Evaluating for 4 layers, alpha=0.75.\n",
            "Evaluating for 5 layers, alpha=0.75.\n",
            "Evaluating for 6 layers, alpha=0.75.\n",
            "Evaluating for 7 layers, alpha=0.75.\n",
            "Evaluating for 8 layers, alpha=0.75.\n",
            "Evaluating for 9 layers, alpha=0.75.\n",
            "Evaluating for 10 layers, alpha=0.75.\n",
            "Evaluating for 11 layers, alpha=0.75.\n",
            "Evaluating for 12 layers, alpha=0.75.\n",
            "Evaluating for 13 layers, alpha=0.75.\n",
            "Evaluating for 14 layers, alpha=0.75.\n",
            "Evaluating for 15 layers, alpha=0.75.\n",
            "Evaluating for 16 layers, alpha=0.75.\n",
            "Evaluating for 17 layers, alpha=0.75.\n",
            "Evaluating for 18 layers, alpha=0.75.\n",
            "Evaluating for 19 layers, alpha=0.75.\n",
            "Evaluating for 20 layers, alpha=0.75.\n",
            "Evaluating for 21 layers, alpha=0.75.\n",
            "Evaluating for 22 layers, alpha=0.75.\n",
            "Evaluating for 23 layers, alpha=0.75.\n",
            "Evaluating for 24 layers, alpha=0.75.\n",
            "Evaluating for 25 layers, alpha=0.75.\n",
            "Evaluating for 26 layers, alpha=0.75.\n",
            "Evaluating for 27 layers, alpha=0.75.\n",
            "Evaluating for 28 layers, alpha=0.75.\n",
            "Evaluating for 29 layers, alpha=0.75.\n",
            "Evaluating for 30 layers, alpha=0.75.\n",
            "Evaluating for 31 layers, alpha=0.75.\n",
            "Evaluating for 32 layers, alpha=0.75.\n",
            "Evaluating for 33 layers, alpha=0.75.\n",
            "Evaluating for 34 layers, alpha=0.75.\n",
            "Evaluating for 35 layers, alpha=0.75.\n",
            "Evaluating for 36 layers, alpha=0.75.\n",
            "Evaluating for 37 layers, alpha=0.75.\n",
            "Evaluating for 38 layers, alpha=0.75.\n",
            "Evaluating for 39 layers, alpha=0.75.\n",
            "Evaluating for 40 layers, alpha=0.75.\n",
            "Evaluating for 41 layers, alpha=0.75.\n",
            "Evaluating for 42 layers, alpha=0.75.\n",
            "Evaluating for 43 layers, alpha=0.75.\n",
            "Evaluating for 44 layers, alpha=0.75.\n",
            "Evaluating for 45 layers, alpha=0.75.\n",
            "Evaluating for 46 layers, alpha=0.75.\n",
            "Evaluating for 47 layers, alpha=0.75.\n",
            "Evaluating for 48 layers, alpha=0.75.\n",
            "Evaluating for 49 layers, alpha=0.75.\n",
            "Evaluating for 50 layers, alpha=0.75.\n",
            "Evaluating for 1 layers, alpha=1.0.\n",
            "Evaluating for 2 layers, alpha=1.0.\n",
            "Evaluating for 3 layers, alpha=1.0.\n",
            "Evaluating for 4 layers, alpha=1.0.\n",
            "Evaluating for 5 layers, alpha=1.0.\n",
            "Evaluating for 6 layers, alpha=1.0.\n",
            "Evaluating for 7 layers, alpha=1.0.\n",
            "Evaluating for 8 layers, alpha=1.0.\n",
            "Evaluating for 9 layers, alpha=1.0.\n",
            "Evaluating for 10 layers, alpha=1.0.\n",
            "Evaluating for 11 layers, alpha=1.0.\n",
            "Evaluating for 12 layers, alpha=1.0.\n",
            "Evaluating for 13 layers, alpha=1.0.\n",
            "Evaluating for 14 layers, alpha=1.0.\n",
            "Evaluating for 15 layers, alpha=1.0.\n",
            "Evaluating for 16 layers, alpha=1.0.\n",
            "Evaluating for 17 layers, alpha=1.0.\n",
            "Evaluating for 18 layers, alpha=1.0.\n",
            "Evaluating for 19 layers, alpha=1.0.\n",
            "Evaluating for 20 layers, alpha=1.0.\n",
            "Evaluating for 21 layers, alpha=1.0.\n",
            "Evaluating for 22 layers, alpha=1.0.\n",
            "Evaluating for 23 layers, alpha=1.0.\n",
            "Evaluating for 24 layers, alpha=1.0.\n",
            "Evaluating for 25 layers, alpha=1.0.\n",
            "Evaluating for 26 layers, alpha=1.0.\n",
            "Evaluating for 27 layers, alpha=1.0.\n",
            "Evaluating for 28 layers, alpha=1.0.\n",
            "Evaluating for 29 layers, alpha=1.0.\n",
            "Evaluating for 30 layers, alpha=1.0.\n",
            "Evaluating for 31 layers, alpha=1.0.\n",
            "Evaluating for 32 layers, alpha=1.0.\n",
            "Evaluating for 33 layers, alpha=1.0.\n",
            "Evaluating for 34 layers, alpha=1.0.\n",
            "Evaluating for 35 layers, alpha=1.0.\n",
            "Evaluating for 36 layers, alpha=1.0.\n",
            "Evaluating for 37 layers, alpha=1.0.\n",
            "Evaluating for 38 layers, alpha=1.0.\n",
            "Evaluating for 39 layers, alpha=1.0.\n",
            "Evaluating for 40 layers, alpha=1.0.\n",
            "Evaluating for 41 layers, alpha=1.0.\n",
            "Evaluating for 42 layers, alpha=1.0.\n",
            "Evaluating for 43 layers, alpha=1.0.\n",
            "Evaluating for 44 layers, alpha=1.0.\n",
            "Evaluating for 45 layers, alpha=1.0.\n",
            "Evaluating for 46 layers, alpha=1.0.\n",
            "Evaluating for 47 layers, alpha=1.0.\n",
            "Evaluating for 48 layers, alpha=1.0.\n",
            "Evaluating for 49 layers, alpha=1.0.\n",
            "Evaluating for 50 layers, alpha=1.0.\n",
            "Done.\n"
          ]
        }
      ],
      "source": [
        "hetero_results = compare_lps_data(hetero, 50)"
      ]
    },
    {
      "cell_type": "code",
      "execution_count": null,
      "metadata": {
        "colab": {
          "base_uri": "https://localhost:8080/",
          "height": 266
        },
        "id": "AomsizQYz8aH",
        "outputId": "2cda87c0-1f55-4f43-e9a8-9ac66795a444"
      },
      "outputs": [
        {
          "data": {
            "image/png": "[encoded data removed]",
            "text/plain": [
              "<Figure size 432x288 with 1 Axes>"
            ]
          },
          "metadata": {
            "needs_background": "light"
          },
          "output_type": "display_data"
        }
      ],
      "source": [
        "for k, v in hetero_results.items():\n",
        "    v = v[0.5]\n",
        "    plt.plot(v, label=k)\n",
        "plt.legend()\n",
        "plt.show()"
      ]
    },
    {
      "cell_type": "code",
      "execution_count": null,
      "metadata": {
        "colab": {
          "base_uri": "https://localhost:8080/"
        },
        "id": "KO0lYr59mw-y",
        "outputId": "5457dfff-c115-453b-e997-ca1ca7ba79a2"
      },
      "outputs": [
        {
          "name": "stdout",
          "output_type": "stream",
          "text": [
            "Saved results to ./out/hetero_results.pkl.\n"
          ]
        }
      ],
      "source": [
        "hetero_results_f = './out/hetero_results.pkl'\n",
        "export_pickled(hetero_results, hetero_results_f)\n",
        "print(f'Saved results to {hetero_results_f}.')"
      ]
    }
  ],
  "metadata": {
    "accelerator": "GPU",
    "colab": {
      "provenance": [],
      "toc_visible": true
    },
    "gpuClass": "standard",
    "kernelspec": {
      "display_name": "Python 3",
      "name": "python3"
    },
    "language_info": {
      "codemirror_mode": {
        "name": "ipython",
        "version": 3
      },
      "file_extension": ".py",
      "mimetype": "text/x-python",
      "name": "python",
      "nbconvert_exporter": "python",
      "pygments_lexer": "ipython3",
      "version": "3.9.16"
    }
  },
  "nbformat": 4,
  "nbformat_minor": 0
}
